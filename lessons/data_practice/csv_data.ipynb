{
 "cells": [
  {
   "cell_type": "markdown",
   "metadata": {},
   "source": [
    "# Working with CSV Files\n",
    "\n",
    "First, enable autoreload for any modules that we are importing"
   ]
  },
  {
   "cell_type": "code",
   "execution_count": 1,
   "metadata": {},
   "outputs": [
    {
     "name": "stdout",
     "output_type": "stream",
     "text": [
      "Autoreloading of modules completed.\n"
     ]
    }
   ],
   "source": [
    "%reload_ext autoreload\n",
    "%autoreload 2\n",
    "print(\"Autoreloading of modules completed.\")"
   ]
  },
  {
   "cell_type": "markdown",
   "metadata": {},
   "source": [
    "# Reading a CSV file"
   ]
  },
  {
   "cell_type": "code",
   "execution_count": 1,
   "metadata": {},
   "outputs": [
    {
     "name": "stdout",
     "output_type": "stream",
     "text": [
      "[{'Day': 'Sunday', 'Low ': '51', 'High': '87'}, {'Day': 'Monday', 'Low ': '34', 'High': '94'}, {'Day': 'Tuesday', 'Low ': '43', 'High': '66'}, {'Day': 'Wednesday', 'Low ': '58', 'High': '80'}, {'Day': 'Thursday', 'Low ': '57', 'High': '61'}, {'Day': 'Friday', 'Low ': '42', 'High': '75'}, {'Day': 'Saturday', 'Low ': '41', 'High': '70'}, {'Day': 'Sunday', 'Low ': '39', 'High': '82'}, {'Day': 'Monday', 'Low ': '58', 'High': '74'}, {'Day': 'Tuesday', 'Low ': '40', 'High': '67'}, {'Day': 'Wednesday', 'Low ': '38', 'High': '91'}, {'Day': 'Thursday', 'Low ': '36', 'High': '90'}, {'Day': 'Friday', 'Low ': '43', 'High': '72'}, {'Day': 'Saturday', 'Low ': '46', 'High': '72'}]\n"
     ]
    }
   ],
   "source": [
    "from data_utils import read_csv_rows\n",
    "filename: str = \"../../data/weather.csv\"\n",
    "rows: list[dict[str,str]] = read_csv_rows(filename)\n",
    "print(rows)"
   ]
  },
  {
   "cell_type": "code",
   "execution_count": 2,
   "metadata": {},
   "outputs": [
    {
     "name": "stdout",
     "output_type": "stream",
     "text": [
      "['87', '94', '66', '80', '61', '75', '70', '82', '74', '67', '91', '90', '72', '72']\n"
     ]
    }
   ],
   "source": [
    "from data_utils import column_vals\n",
    "print(column_vals(rows, \"High\"))"
   ]
  }
 ],
 "metadata": {
  "kernelspec": {
   "display_name": "Python 3",
   "language": "python",
   "name": "python3"
  },
  "language_info": {
   "codemirror_mode": {
    "name": "ipython",
    "version": 3
   },
   "file_extension": ".py",
   "mimetype": "text/x-python",
   "name": "python",
   "nbconvert_exporter": "python",
   "pygments_lexer": "ipython3",
   "version": "3.11.6"
  }
 },
 "nbformat": 4,
 "nbformat_minor": 2
}
